{
 "cells": [
  {
   "cell_type": "code",
   "execution_count": 119,
   "metadata": {},
   "outputs": [],
   "source": [
    "import numpy as np\n",
    "from scipy.signal import lfilter\n",
    "import matplotlib.pyplot as plt"
   ]
  },
  {
   "cell_type": "code",
   "execution_count": 120,
   "metadata": {},
   "outputs": [],
   "source": [
    "def lpc(x, lag):\n",
    "    r_p = []\n",
    "    y = None\n",
    "    for p in range(0, lag):\n",
    "        y = np.roll(x, p)\n",
    "        r_p.append(np.correlate(x, y))\n",
    "    return r_p"
   ]
  },
  {
   "cell_type": "code",
   "execution_count": 121,
   "metadata": {},
   "outputs": [],
   "source": [
    "def toeplitz(x):\n",
    "    M = len(x)\n",
    "    covmatrix = np.zeros((M,M))\n",
    "    for i in range(0,M):\n",
    "        covmatrix[[i],i:M] = np.array(x[0:M-i]).T\n",
    "        covmatrix[i:M,i] = x[0:M-i]\n",
    "    return covmatrix"
   ]
  },
  {
   "cell_type": "code",
   "execution_count": 122,
   "metadata": {},
   "outputs": [],
   "source": [
    "noise = np.random.random((50000,1))"
   ]
  },
  {
   "cell_type": "code",
   "execution_count": 123,
   "metadata": {},
   "outputs": [],
   "source": [
    "x = lfilter(np.ones(4), [1, 1/2, 1/3, 1/4], noise)\n",
    "x = x[len(x)-4096:len(x)]"
   ]
  },
  {
   "cell_type": "code",
   "execution_count": 124,
   "metadata": {},
   "outputs": [
    {
     "name": "stdout",
     "output_type": "stream",
     "text": [
      "[[-1.00000000e+00]\n",
      " [-4.26296615e-16]\n",
      " [ 3.11692451e-16]]\n"
     ]
    }
   ],
   "source": [
    "r_p = lpc(x.flatten(), 3)\n",
    "covmatrix = toeplitz(r_p)\n",
    "Acoeffs,resid,rank,s = np.linalg.lstsq((covmatrix),-1*np.array(r_p), rcond=None)\n",
    "print(Acoeffs)\n",
    "est_x = lfilter((np.append(0, -1*Acoeffs[1:])), np.ones(len(Acoeffs)), x)"
   ]
  },
  {
   "cell_type": "code",
   "execution_count": 118,
   "metadata": {},
   "outputs": [
    {
     "data": {
      "text/plain": [
       "[<matplotlib.lines.Line2D at 0x11d634ca0>]"
      ]
     },
     "execution_count": 118,
     "metadata": {},
     "output_type": "execute_result"
    },
    {
     "data": {
      "image/png": "[encoded data removed]",
      "text/plain": [
       "<Figure size 432x288 with 1 Axes>"
      ]
     },
     "metadata": {
      "needs_background": "light"
     },
     "output_type": "display_data"
    }
   ],
   "source": [
    "plt.plot(x)\n",
    "plt.plot(est_x)"
   ]
  },
  {
   "cell_type": "code",
   "execution_count": null,
   "metadata": {},
   "outputs": [],
   "source": []
  }
 ],
 "metadata": {
  "kernelspec": {
   "display_name": "Python 3",
   "language": "python",
   "name": "python3"
  },
  "language_info": {
   "codemirror_mode": {
    "name": "ipython",
    "version": 3
   },
   "file_extension": ".py",
   "mimetype": "text/x-python",
   "name": "python",
   "nbconvert_exporter": "python",
   "pygments_lexer": "ipython3",
   "version": "3.8.3"
  }
 },
 "nbformat": 4,
 "nbformat_minor": 4
}
